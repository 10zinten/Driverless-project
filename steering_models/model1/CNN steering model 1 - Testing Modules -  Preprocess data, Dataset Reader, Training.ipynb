{
 "cells": [
  {
   "cell_type": "code",
   "execution_count": 1,
   "metadata": {
    "collapsed": true
   },
   "outputs": [],
   "source": [
    "import os\n",
    "import numpy as np\n",
    "from scipy.misc import imread, imresize\n",
    "from random import shuffle"
   ]
  },
  {
   "cell_type": "code",
   "execution_count": 2,
   "metadata": {
    "collapsed": true
   },
   "outputs": [],
   "source": [
    "IMAGE_DIR = '../data_collection_13_oct_4_c158/'\n",
    "IMG_SIZE = (128, 128, 3)\n",
    "TRAIN_DIR = '../data/train/train_set.npy'    \n",
    "TEST_DIR = '../data/test/test_set.npy'  "
   ]
  },
  {
   "cell_type": "markdown",
   "metadata": {},
   "source": [
    "# Preprocessing Data"
   ]
  },
  {
   "cell_type": "code",
   "execution_count": 3,
   "metadata": {
    "collapsed": true
   },
   "outputs": [],
   "source": [
    "def resize_and_label_img():\n",
    "    data = []\n",
    "    for img in os.listdir(IMAGE_DIR):\n",
    "        angle = float(img.split(\"'\")[1])\n",
    "        img = imresize(imread(os.path.join(IMAGE_DIR, img)), IMG_SIZE) / 255\n",
    "        data.append((img, angle))\n",
    "    \n",
    "    shuffle(data)\n",
    "    return data"
   ]
  },
  {
   "cell_type": "code",
   "execution_count": 4,
   "metadata": {
    "collapsed": true
   },
   "outputs": [],
   "source": [
    "data = resize_and_label_img()"
   ]
  },
  {
   "cell_type": "code",
   "execution_count": 5,
   "metadata": {},
   "outputs": [
    {
     "name": "stdout",
     "output_type": "stream",
     "text": [
      "441\n"
     ]
    }
   ],
   "source": [
    "print(len(data))"
   ]
  },
  {
   "cell_type": "code",
   "execution_count": 6,
   "metadata": {
    "collapsed": true
   },
   "outputs": [],
   "source": [
    "def split_dataset():\n",
    "    #data = resize_and_label_img()\n",
    "    \n",
    "    # Training dataset\n",
    "    first_index, last_index = 0, int(len(data) * 0.90)\n",
    "    train_set = data[first_index: last_index]\n",
    "    \n",
    "    # Test_dataset\n",
    "    first_index = last_index\n",
    "    test_set = data[first_index:]\n",
    "    \n",
    "    print(len(train_set), len(test_set))\n",
    "#split_dataset()"
   ]
  },
  {
   "cell_type": "code",
   "execution_count": 7,
   "metadata": {
    "collapsed": true
   },
   "outputs": [],
   "source": [
    "def seperate_features_from_label(xs, ys, dataset):\n",
    "    for data_point in dataset: \n",
    "        xs.append(data_point[0])\n",
    "        ys.append(data_point[1])"
   ]
  },
  {
   "cell_type": "markdown",
   "metadata": {
    "collapsed": true
   },
   "source": [
    "# Dataset Reader"
   ]
  },
  {
   "cell_type": "code",
   "execution_count": 8,
   "metadata": {
    "collapsed": true
   },
   "outputs": [],
   "source": [
    "class DataReader(object):    \n",
    "    def __init__(self):    \n",
    "        self.train_set = np.load(TRAIN_DIR)\n",
    "        print(len(self.train_set))\n",
    "        self.xs = []\n",
    "        self.ys = []\n",
    "        \n",
    "        # Seperating features xs and lable ys\n",
    "        seperate_features_from_label(self.xs, self.ys, self.train_set)\n",
    "    \n",
    "    def train_batch(self, size=64):\n",
    "        first_index, last_index = 0, size    \n",
    "        while last_index <= len(self.train_set) + size:    \n",
    "            yield self.xs[first_index: last_index], self.ys[first_index: last_index]    \n",
    "            first_index, last_index = last_index, last_index + size \n",
    "    \n",
    "    def cv_set(self):    \n",
    "        cv_set = np.load(CV_DIR)    \n",
    "        # Loading angle from cv.csv file    \n",
    "        return cv_set   # [cv_set, csv]     \n",
    "    \n",
    "    def test_set(self):    \n",
    "        test_set = np.load(TEST_DIR)    \n",
    "        xs = []\n",
    "        ys = []\n",
    "        seperate_features_from_label(xs, ys, test_set)\n",
    "        # loading angle from test.csv file    \n",
    "        return xs, ys  # [test_set, csv]    "
   ]
  },
  {
   "cell_type": "code",
   "execution_count": 9,
   "metadata": {},
   "outputs": [
    {
     "name": "stdout",
     "output_type": "stream",
     "text": [
      "432\n"
     ]
    }
   ],
   "source": [
    "data_reader = DataReader()"
   ]
  },
  {
   "cell_type": "code",
   "execution_count": 10,
   "metadata": {
    "collapsed": true
   },
   "outputs": [],
   "source": [
    "import pprint\n",
    "pp = pprint.PrettyPrinter(indent=4)"
   ]
  },
  {
   "cell_type": "code",
   "execution_count": 11,
   "metadata": {},
   "outputs": [
    {
     "name": "stdout",
     "output_type": "stream",
     "text": [
      "(0,) (0,)\n"
     ]
    }
   ],
   "source": [
    "counter = 0\n",
    "for train_batch_set in data_reader.train_batch(1):\n",
    "    if counter >= 432:\n",
    "        print(np.array(train_batch_set[0]).shape, np.array(train_batch_set[1]).shape)\n",
    "    counter += 1\n"
   ]
  },
  {
   "cell_type": "markdown",
   "metadata": {},
   "source": [
    "# Training Phase"
   ]
  },
  {
   "cell_type": "code",
   "execution_count": 12,
   "metadata": {
    "collapsed": true
   },
   "outputs": [],
   "source": [
    "import tensorflow as tf "
   ]
  },
  {
   "cell_type": "code",
   "execution_count": 13,
   "metadata": {
    "collapsed": true
   },
   "outputs": [],
   "source": [
    "def weight_variable(shape):                                                      \n",
    "    initializer = tf.contrib.layers.xavier_initializer_conv2d()                  \n",
    "    initial = initializer(shape=shape)                                           \n",
    "    return tf.Variable(initial)                                                  \n",
    "                                                                                 \n",
    "                                                                                 \n",
    "def bias_variable(shape):                                                        \n",
    "    initial = tf.constant(0.1, shape=shape)                                      \n",
    "    return tf.Variable(initial)                                                  \n",
    "                                                                                 \n",
    "                                                                                 \n",
    "def conv2d(x, W, stride):                                                        \n",
    "    return tf.nn.conv2d(x, W, strides=[1, stride, stride, 1], padding='SAME')    \n",
    "                                                                                 \n",
    "                                                                                 \n",
    "def max_pool2x2(x):                                                              \n",
    "    return tf.nn.max_pool(x, ksize=[1, 2, 2, 1],                                 \n",
    "                          strides=[1, 2, 2, 1], padding='SAME')  "
   ]
  },
  {
   "cell_type": "code",
   "execution_count": 14,
   "metadata": {
    "collapsed": true
   },
   "outputs": [],
   "source": [
    "class ConvModel1(object):     \n",
    "    def __init__(self, is_training=True):                                        \n",
    "        x = tf.placeholder(tf.float32, shape=[None, 128, 128, 3], name='x')      \n",
    "        y_ = tf.placeholder(tf.float32, shape=[None, 1])                         \n",
    "        x_image = x                                                              \n",
    "                                                                                 \n",
    "        # Conv layer 1                                                           \n",
    "        self.W_conv1 = weight_variable([3, 3, 3, 32])                            \n",
    "        self.b_conv1 = bias_variable([32])                                       \n",
    "        self.h_conv1 = max_pool2x2(tf.nn.relu(conv2d(x_image, self.W_conv1, 1) + self.b_conv1))\n",
    "                                                                                 \n",
    "        # Conv layer 2                                                           \n",
    "        self.W_conv2 = weight_variable([3, 3, 32, 64])                           \n",
    "        self.b_conv2 = bias_variable([64])                                       \n",
    "        self.h_conv2 = max_pool2x2(tf.nn.relu(conv2d(self.h_conv1, self.W_conv2, 1) + self.b_conv2))\n",
    "                                                                                 \n",
    "        # Conv layer 3                                                           \n",
    "        self.W_conv3 = weight_variable([3, 3, 64, 128])                          \n",
    "        self.b_conv3 = bias_variable([128])                                      \n",
    "        self.h_conv3 = max_pool2x2(tf.nn.relu(conv2d(self.h_conv2, self.W_conv3, 1) + self.b_conv3))\n",
    "                                                                                 \n",
    "        # Fully Connect layer 1                                                  \n",
    "        self.W_fc1 = weight_variable([16*16*128, 1024])                          \n",
    "        self.b_fc1 = bias_variable([1024])                                       \n",
    "                                                                                 \n",
    "        self.h_conv3_flat = tf.reshape(self.h_conv3, [-1, 16*16*128])            \n",
    "        self.h_fc1 = tf.nn.relu(tf.matmul(self.h_conv3_flat, self.W_fc1) + self.b_fc1)\n",
    "        print(\"Fc1 output shape: \", self.h_fc1)                                  \n",
    "                                                                                 \n",
    "        # Output layer                                                           \n",
    "        self.W_fc2 = weight_variable([1024, 1])                                  \n",
    "        self.b_fc2 = bias_variable([1])                                          \n",
    "        h_fc2 = tf.matmul(self.h_fc1, self.W_fc2) + self.b_fc2                   \n",
    "        print(\"Final output shape: \", h_fc2)                                     \n",
    "                                                                                 \n",
    "        self.x = x                                                               \n",
    "        self.y_ = y_                                                             \n",
    "        self.y = h_fc2      "
   ]
  },
  {
   "cell_type": "code",
   "execution_count": 15,
   "metadata": {
    "collapsed": true
   },
   "outputs": [],
   "source": [
    "sess = tf.Session()"
   ]
  },
  {
   "cell_type": "code",
   "execution_count": 16,
   "metadata": {
    "scrolled": true
   },
   "outputs": [
    {
     "name": "stdout",
     "output_type": "stream",
     "text": [
      "Fc1 output shape:  Tensor(\"Relu_3:0\", shape=(?, 1024), dtype=float32)\n",
      "Final output shape:  Tensor(\"add_4:0\", shape=(?, 1), dtype=float32)\n"
     ]
    }
   ],
   "source": [
    "model = ConvModel1()                                                         "
   ]
  },
  {
   "cell_type": "code",
   "execution_count": 17,
   "metadata": {},
   "outputs": [
    {
     "name": "stdout",
     "output_type": "stream",
     "text": [
      "432\n"
     ]
    }
   ],
   "source": [
    "data_reader = DataReader()"
   ]
  },
  {
   "cell_type": "code",
   "execution_count": 18,
   "metadata": {
    "collapsed": true
   },
   "outputs": [],
   "source": [
    "loss = tf.sqrt(tf.reduce_mean(tf.square(tf.subtract(model.y_, model.y))))         \n",
    "train_step = tf.train.AdamOptimizer(10e-3).minimize(loss)  "
   ]
  },
  {
   "cell_type": "code",
   "execution_count": 19,
   "metadata": {
    "collapsed": true
   },
   "outputs": [],
   "source": [
    "sess.run(tf.global_variables_initializer())  "
   ]
  },
  {
   "cell_type": "code",
   "execution_count": 20,
   "metadata": {
    "collapsed": true
   },
   "outputs": [],
   "source": [
    "import matplotlib.pyplot as plt"
   ]
  },
  {
   "cell_type": "code",
   "execution_count": 21,
   "metadata": {},
   "outputs": [
    {
     "name": "stdout",
     "output_type": "stream",
     "text": [
      "64\n",
      "64\n",
      "64\n",
      "64\n",
      "64\n",
      "64\n",
      "48\n"
     ]
    }
   ],
   "source": [
    "for batch_i in data_reader.train_batch(64):\n",
    "    print(len(batch_i[0]))"
   ]
  },
  {
   "cell_type": "code",
   "execution_count": 27,
   "metadata": {},
   "outputs": [
    {
     "name": "stdout",
     "output_type": "stream",
     "text": [
      "Step: 0, train loss: 7.69963\n",
      "Step: 10, train loss: 3.23576\n",
      "Step: 20, train loss: 11.6841\n",
      "Step: 30, train loss: 5.10057\n",
      "Step: 40, train loss: 2.67917\n",
      "Step: 50, train loss: 1.06684\n",
      "Step: 60, train loss: 3.69885\n",
      "Step: 70, train loss: 1.97931\n",
      "Step: 80, train loss: 2.89156\n",
      "Step: 90, train loss: 2.41979\n"
     ]
    },
    {
     "ename": "NameError",
     "evalue": "name 'learning_rate' is not defined",
     "output_type": "error",
     "traceback": [
      "\u001b[0;31m---------------------------------------------------------------------------\u001b[0m",
      "\u001b[0;31mNameError\u001b[0m                                 Traceback (most recent call last)",
      "\u001b[0;32m<ipython-input-27-8ce2321124fe>\u001b[0m in \u001b[0;36m<module>\u001b[0;34m()\u001b[0m\n\u001b[1;32m     24\u001b[0m \u001b[0mplt\u001b[0m\u001b[0;34m.\u001b[0m\u001b[0mylabel\u001b[0m\u001b[0;34m(\u001b[0m\u001b[0;34m'cost'\u001b[0m\u001b[0;34m)\u001b[0m\u001b[0;34m\u001b[0m\u001b[0m\n\u001b[1;32m     25\u001b[0m \u001b[0mplt\u001b[0m\u001b[0;34m.\u001b[0m\u001b[0mxlabel\u001b[0m\u001b[0;34m(\u001b[0m\u001b[0;34m'iterations (per tens)'\u001b[0m\u001b[0;34m)\u001b[0m\u001b[0;34m\u001b[0m\u001b[0m\n\u001b[0;32m---> 26\u001b[0;31m \u001b[0mplt\u001b[0m\u001b[0;34m.\u001b[0m\u001b[0mtitle\u001b[0m\u001b[0;34m(\u001b[0m\u001b[0;34m\"Learning rate =\"\u001b[0m \u001b[0;34m+\u001b[0m \u001b[0mstr\u001b[0m\u001b[0;34m(\u001b[0m\u001b[0mlearning_rate\u001b[0m\u001b[0;34m)\u001b[0m\u001b[0;34m)\u001b[0m\u001b[0;34m\u001b[0m\u001b[0m\n\u001b[0m\u001b[1;32m     27\u001b[0m \u001b[0mplt\u001b[0m\u001b[0;34m.\u001b[0m\u001b[0mshow\u001b[0m\u001b[0;34m(\u001b[0m\u001b[0;34m)\u001b[0m\u001b[0;34m\u001b[0m\u001b[0m\n\u001b[1;32m     28\u001b[0m \u001b[0;34m\u001b[0m\u001b[0m\n",
      "\u001b[0;31mNameError\u001b[0m: name 'learning_rate' is not defined"
     ]
    }
   ],
   "source": [
    "costs = []\n",
    "for epoch in range(100):\n",
    "    counter = 0\n",
    "    for train_batch in data_reader.train_batch(32):\n",
    "        #p1rint(\"Counter: {}\".format(counter))\n",
    "        xs = np.array(train_batch[0])\n",
    "        #print(\"xs length: \", len(xs))\n",
    "        #print(\"xs passed:\")\n",
    "        ys = np.array(train_batch[1]).reshape([len(train_batch[1]), 1])\n",
    "        #print(\"ys length: \", len(ys))\n",
    "        #print(\"ys passed\")\n",
    "        #print(\"image: {}, x shape: {}, y shape: {}\".format(counter, xs.shape, ys.shape))\n",
    "        # print(xs)\n",
    "        sess.run(train_step, feed_dict={model.x: xs, model.y_: ys})\n",
    "        #print(\"Train passed:\")\n",
    "        train_error = loss.eval(session=sess, feed_dict={model.x: xs,  model.y_: ys})\n",
    "                                                                                 \n",
    "    if epoch % 10 == 0:                                                                     \n",
    "        print(\"Step: %d, train loss: %g\" % (epoch, train_error))\n",
    "        costs.append(train_error)\n",
    "                                                                                 \n",
    "#checkpoint_path = os.path.join(CKPT_DIR, CKPT_FILE)                          \n",
    "#filename = saver.save(sess, checkpoint_path)                                 \n",
    "#print('Model saved in file: %s' % filename)   "
   ]
  },
  {
   "cell_type": "code",
   "execution_count": 28,
   "metadata": {},
   "outputs": [
    {
     "data": {
      "image/png": "[encoded data removed]",
      "text/plain": [
       "<matplotlib.figure.Figure at 0x7fcd5e721438>"
      ]
     },
     "metadata": {},
     "output_type": "display_data"
    }
   ],
   "source": [
    "# plot learning curve\n",
    "plt.plot(np.squeeze(costs))\n",
    "plt.ylabel('cost')\n",
    "plt.xlabel('iterations (per tens)')\n",
    "plt.title(\"Learning rate =\" + str(10e-3))\n",
    "plt.show()"
   ]
  },
  {
   "cell_type": "markdown",
   "metadata": {
    "collapsed": true
   },
   "source": [
    "## Testing the accuracy"
   ]
  },
  {
   "cell_type": "code",
   "execution_count": 29,
   "metadata": {
    "collapsed": true
   },
   "outputs": [],
   "source": [
    "xs , ys = data_reader.test_set()"
   ]
  },
  {
   "cell_type": "code",
   "execution_count": 33,
   "metadata": {},
   "outputs": [
    {
     "name": "stdout",
     "output_type": "stream",
     "text": [
      "Test Error: 3.563483238220215\n"
     ]
    }
   ],
   "source": [
    "test_error = loss.eval(session=sess, feed_dict={model.x: np.array(xs), model.y_: np.array(ys).reshape([len(ys), 1])})\n",
    "print(\"Test Error: {}\".format(test_error))"
   ]
  },
  {
   "cell_type": "code",
   "execution_count": null,
   "metadata": {
    "collapsed": true
   },
   "outputs": [],
   "source": []
  }
 ],
 "metadata": {
  "kernelspec": {
   "display_name": "Python 3",
   "language": "python",
   "name": "python3"
  },
  "language_info": {
   "codemirror_mode": {
    "name": "ipython",
    "version": 3
   },
   "file_extension": ".py",
   "mimetype": "text/x-python",
   "name": "python",
   "nbconvert_exporter": "python",
   "pygments_lexer": "ipython3",
   "version": "3.5.2"
  }
 },
 "nbformat": 4,
 "nbformat_minor": 2
}
