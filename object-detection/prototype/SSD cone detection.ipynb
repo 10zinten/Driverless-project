{
 "cells": [
  {
   "cell_type": "code",
   "execution_count": 1,
   "metadata": {
    "collapsed": true
   },
   "outputs": [],
   "source": [
    "%matplotlib inline\n",
    "%reload_ext autoreload\n",
    "%autoreload 2"
   ]
  },
  {
   "cell_type": "code",
   "execution_count": 93,
   "metadata": {},
   "outputs": [],
   "source": [
    "import collections\n",
    "from pathlib import Path\n",
    "import json\n",
    "import pprint\n",
    "import os\n",
    "\n",
    "import cv2\n",
    "import numpy as np\n",
    "from PIL import ImageDraw, ImageFont\n",
    "from matplotlib import patches, patheffects\n",
    "import matplotlib.pyplot as plt"
   ]
  },
  {
   "cell_type": "markdown",
   "metadata": {},
   "source": [
    "## Import datasets\n",
    "\n",
    "- Dataset is annotated by using [sloth](https://sloth.readthedocs.io/en/latest/)\n",
    "- Annotation format: \n",
    "    - **Origin**: Top left conner of image\n",
    "    - **x,y**: Top-left conner of bounding box.\n",
    "    - **height**: Height of the bounding box.\n",
    "    - **width**: Width of the bounding box."
   ]
  },
  {
   "cell_type": "code",
   "execution_count": 9,
   "metadata": {},
   "outputs": [
    {
     "data": {
      "text/plain": [
       "[PosixPath('/home/tenzin/d2/data/myconfig.pyc'),\n",
       " PosixPath('/home/tenzin/d2/data/myconfig.py'),\n",
       " PosixPath('/home/tenzin/d2/data/labels.json'),\n",
       " PosixPath('/home/tenzin/d2/data/dataset-01'),\n",
       " PosixPath('/home/tenzin/d2/data/tub_17_18-08-03'),\n",
       " PosixPath('/home/tenzin/d2/data/tub_5_18-08-03'),\n",
       " PosixPath('/home/tenzin/d2/data/dataset-02')]"
      ]
     },
     "execution_count": 9,
     "metadata": {},
     "output_type": "execute_result"
    }
   ],
   "source": [
    "PATH = Path('/home/tenzin/d2/data/')\n",
    "list(PATH.iterdir())"
   ]
  },
  {
   "cell_type": "code",
   "execution_count": 29,
   "metadata": {},
   "outputs": [
    {
     "name": "stdout",
     "output_type": "stream",
     "text": [
      "{'annotations': [{'class': 'orange',\n",
      "                  'height': 35.79507484025583,\n",
      "                  'type': 'rect',\n",
      "                  'width': 21.945789931823516,\n",
      "                  'x': 0.6391977650045684,\n",
      "                  'y': 8.30957094505939},\n",
      "                 {'class': 'orange',\n",
      "                  'height': 21.093526245150763,\n",
      "                  'type': 'rect',\n",
      "                  'width': 15.979944125114201,\n",
      "                  'x': 57.74086477207935,\n",
      "                  'y': 11.292493848414042},\n",
      "                 {'class': 'green',\n",
      "                  'height': 28.55083350353739,\n",
      "                  'type': 'rect',\n",
      "                  'width': 22.37192177515989,\n",
      "                  'x': 24.50258099184179,\n",
      "                  'y': 8.735702788395768},\n",
      "                 {'class': 'green',\n",
      "                  'height': 17.684471498459725,\n",
      "                  'type': 'rect',\n",
      "                  'width': 12.570889378423189,\n",
      "                  'x': 83.52184129393027,\n",
      "                  'y': 12.1447575350868},\n",
      "                 {'class': 'orange',\n",
      "                  'height': 27.48550389519644,\n",
      "                  'type': 'rect',\n",
      "                  'width': 10.014098318404905,\n",
      "                  'x': 150.42454069774178,\n",
      "                  'y': 18.323669263464293}],\n",
      " 'class': 'image',\n",
      " 'filename': 'dataset-02/1_cam-image_array_.jpg'}\n"
     ]
    }
   ],
   "source": [
    "trn_j = json.load((PATH/'labels.json').open())  # list of images with annotation\n",
    "pprint.pprint(trn_j[0])"
   ]
  },
  {
   "cell_type": "code",
   "execution_count": 26,
   "metadata": {},
   "outputs": [
    {
     "data": {
      "text/plain": [
       "dict_keys(['class', 'filename', 'annotations'])"
      ]
     },
     "execution_count": 26,
     "metadata": {},
     "output_type": "execute_result"
    }
   ],
   "source": [
    "trn_j[0].keys()"
   ]
  },
  {
   "cell_type": "code",
   "execution_count": 27,
   "metadata": {},
   "outputs": [
    {
     "data": {
      "text/plain": [
       "[{'class': 'orange',\n",
       "  'height': 35.79507484025583,\n",
       "  'type': 'rect',\n",
       "  'width': 21.945789931823516,\n",
       "  'x': 0.6391977650045684,\n",
       "  'y': 8.30957094505939},\n",
       " {'class': 'orange',\n",
       "  'height': 21.093526245150763,\n",
       "  'type': 'rect',\n",
       "  'width': 15.979944125114201,\n",
       "  'x': 57.74086477207935,\n",
       "  'y': 11.292493848414042}]"
      ]
     },
     "execution_count": 27,
     "metadata": {},
     "output_type": "execute_result"
    }
   ],
   "source": [
    "CLASS, FILENAME, ANNOTATION = 'class', 'filename', 'annotations'\n",
    "trn_j[0][ANNOTATION][:2]"
   ]
  },
  {
   "cell_type": "markdown",
   "metadata": {},
   "source": [
    "### Preprocessing the dataset\n",
    "- Creating hash table to mapping id to name or filename"
   ]
  },
  {
   "cell_type": "code",
   "execution_count": 82,
   "metadata": {},
   "outputs": [
    {
     "data": {
      "text/plain": [
       "'22_cam-image_array_.jpg'"
      ]
     },
     "execution_count": 82,
     "metadata": {},
     "output_type": "execute_result"
    }
   ],
   "source": [
    "cats = {i: name for i, name in enumerate(['orange', 'green'])}\n",
    "trn_fns = {int(dp[FILENAME].split('/')[-1].split('_')[0]):dp[FILENAME].split('/')[-1] for dp in trn_j}\n",
    "trn_ids = list(trn_fns.keys())\n",
    "trn_fns[22]"
   ]
  },
  {
   "cell_type": "code",
   "execution_count": 31,
   "metadata": {
    "collapsed": true
   },
   "outputs": [],
   "source": [
    "JPGS = 'dataset-02'  # images dir name"
   ]
  },
  {
   "cell_type": "code",
   "execution_count": 33,
   "metadata": {},
   "outputs": [
    {
     "data": {
      "text/plain": [
       "[PosixPath('/home/tenzin/d2/data/dataset-02/23710_cam_image_array_.jpg'),\n",
       " PosixPath('/home/tenzin/d2/data/dataset-02/14309_cam_image_array_.jpg'),\n",
       " PosixPath('/home/tenzin/d2/data/dataset-02/3884_cam-image_array_.jpg'),\n",
       " PosixPath('/home/tenzin/d2/data/dataset-02/16183_cam_image_array_.jpg'),\n",
       " PosixPath('/home/tenzin/d2/data/dataset-02/128_cam-image_array_.jpg')]"
      ]
     },
     "execution_count": 33,
     "metadata": {},
     "output_type": "execute_result"
    }
   ],
   "source": [
    "IMG_PATH = PATH/JPGS\n",
    "list(IMG_PATH.iterdir())[:5]"
   ]
  },
  {
   "cell_type": "markdown",
   "metadata": {},
   "source": [
    "- We convert height/width into bottom-right and our x/y are consistent with numpy, which is top-left\n",
    "- New annotation:\n",
    "    - **x1,y1**: Top-left (which is same x, y)\n",
    "    - **x2, y2**: Bottom left (x + width, y + height)"
   ]
  },
  {
   "cell_type": "code",
   "execution_count": 130,
   "metadata": {},
   "outputs": [
    {
     "data": {
      "text/plain": [
       "248"
      ]
     },
     "execution_count": 130,
     "metadata": {},
     "output_type": "execute_result"
    }
   ],
   "source": [
    "def hw_bb(bb): return np.array([bb[1], bb[0], bb[1]+bb[3]-1, bb[0]+bb[2]-1])\n",
    "\n",
    "trn_anno = collections.defaultdict(lambda: [])\n",
    "for dp in trn_j:\n",
    "    dp_name = dp[FILENAME].split('/')[-1]\n",
    "    dp_id = int(dp_name.split('_')[0])\n",
    "    for ann in dp[ANNOTATION]: \n",
    "        bb = [ann['x'], ann['y'], ann['width'], ann['height']]\n",
    "        bb = hw_bb(bb)\n",
    "        cls = 0 if ann[CLASS] == \"orange\" else 1\n",
    "        trn_anno[dp_id].append((bb, cls))\n",
    "len(trn_anno)"
   ]
  },
  {
   "cell_type": "code",
   "execution_count": 104,
   "metadata": {},
   "outputs": [
    {
     "data": {
      "text/plain": [
       "[(array([ 8.30957095,  0.63919777, 29.25536088, 35.43427261]), 0),\n",
       " (array([11.29249385, 57.74086477, 26.27243797, 77.83439102]), 0),\n",
       " (array([ 8.73570279, 24.50258099, 30.10762456, 52.0534145 ]), 1),\n",
       " (array([ 12.14475754,  83.52184129,  23.71564691, 100.20631279]), 1),\n",
       " (array([ 18.32366926, 150.4245407 ,  27.33776758, 176.91004459]), 0)]"
      ]
     },
     "execution_count": 104,
     "metadata": {},
     "output_type": "execute_result"
    }
   ],
   "source": [
    "im_a = trn_anno[1]; im_a  #x1, y1, x2, y2"
   ]
  },
  {
   "cell_type": "code",
   "execution_count": 106,
   "metadata": {},
   "outputs": [
    {
     "data": {
      "text/plain": [
       "'1_cam-image_array_.jpg'"
      ]
     },
     "execution_count": 106,
     "metadata": {},
     "output_type": "execute_result"
    }
   ],
   "source": [
    "trn_fns[1]"
   ]
  },
  {
   "cell_type": "code",
   "execution_count": 107,
   "metadata": {},
   "outputs": [
    {
     "data": {
      "text/plain": [
       "'dataset-02/1_cam-image_array_.jpg'"
      ]
     },
     "execution_count": 107,
     "metadata": {},
     "output_type": "execute_result"
    }
   ],
   "source": [
    "trn_j[0][FILENAME]"
   ]
  },
  {
   "cell_type": "code",
   "execution_count": 110,
   "metadata": {},
   "outputs": [
    {
     "data": {
      "text/plain": [
       "{'annotations': [{'class': 'orange',\n",
       "   'height': 35.79507484025583,\n",
       "   'type': 'rect',\n",
       "   'width': 21.945789931823516,\n",
       "   'x': 0.6391977650045684,\n",
       "   'y': 8.30957094505939},\n",
       "  {'class': 'orange',\n",
       "   'height': 21.093526245150763,\n",
       "   'type': 'rect',\n",
       "   'width': 15.979944125114201,\n",
       "   'x': 57.74086477207935,\n",
       "   'y': 11.292493848414042},\n",
       "  {'class': 'green',\n",
       "   'height': 28.55083350353739,\n",
       "   'type': 'rect',\n",
       "   'width': 22.37192177515989,\n",
       "   'x': 24.50258099184179,\n",
       "   'y': 8.735702788395768},\n",
       "  {'class': 'green',\n",
       "   'height': 17.684471498459725,\n",
       "   'type': 'rect',\n",
       "   'width': 12.570889378423189,\n",
       "   'x': 83.52184129393027,\n",
       "   'y': 12.1447575350868},\n",
       "  {'class': 'orange',\n",
       "   'height': 27.48550389519644,\n",
       "   'type': 'rect',\n",
       "   'width': 10.014098318404905,\n",
       "   'x': 150.42454069774178,\n",
       "   'y': 18.323669263464293}],\n",
       " 'class': 'image',\n",
       " 'filename': 'dataset-02/1_cam-image_array_.jpg'}"
      ]
     },
     "execution_count": 110,
     "metadata": {},
     "output_type": "execute_result"
    }
   ],
   "source": [
    "trn_j[0]"
   ]
  },
  {
   "cell_type": "code",
   "execution_count": 73,
   "metadata": {},
   "outputs": [
    {
     "data": {
      "text/plain": [
       "('orange', 'green')"
      ]
     },
     "execution_count": 73,
     "metadata": {},
     "output_type": "execute_result"
    }
   ],
   "source": [
    "cats[trn_anno[1][0][1]], cats[trn_anno[1][2][1]]"
   ]
  },
  {
   "cell_type": "code",
   "execution_count": 127,
   "metadata": {},
   "outputs": [
    {
     "name": "stdout",
     "output_type": "stream",
     "text": [
      "[ 8.30957095  0.63919777 43.10464579 21.5849877 ]\n",
      "expected: [0.6391977650045684, 8.30957094505939, 21.945789931823516, 35.79507484025583], actual: [ 0.63919777  8.30957095 21.94578993 35.79507484]\n"
     ]
    }
   ],
   "source": [
    "# to covert back to heght/width\n",
    "def bb_hw(bb): return np.array([bb[1], bb[0], bb[3]-bb[1]+1, bb[2]-bb[0]+1])\n",
    "\n",
    "# sanity check\n",
    "bb_sloth = [0.6391977650045684, 8.30957094505939, 21.945789931823516, 35.79507484025583]\n",
    "bb_cr = hw_bb(bb_sloth)\n",
    "\n",
    "print(bb_cr)\n",
    "print('expected: {}, actual: {}'.format(bb_sloth, bb_hw(bb_cr)))"
   ]
  },
  {
   "cell_type": "code",
   "execution_count": 89,
   "metadata": {},
   "outputs": [],
   "source": [
    "## Using fastai open_image\n",
    "def open_image(fn):\n",
    "    \"\"\" Opens an image using OpenCV given the file path\n",
    "    \n",
    "    Arguments:\n",
    "        fn: the file path of image\n",
    "    Returns:\n",
    "        The image in RBG format as numpy array floats normalization to range[0.0, 1.0]\n",
    "    \"\"\"\n",
    "    \n",
    "    flags = flags = cv2.IMREAD_UNCHANGED+cv2.IMREAD_ANYDEPTH+cv2.IMREAD_ANYCOLOR\n",
    "    if not os.path.exists(str(fn)):\n",
    "        raise OSError('No such file or directory: {}'.format(fn))\n",
    "    elif os.path.isdir(str(fn)):\n",
    "        raise OSError('Is a directory: {}'.format(fn))\n",
    "    else:\n",
    "        #res = np.array(Image.open(fn), dtype=np.float32)/255\n",
    "        #if len(res.shape)==2: res = np.repeat(res[...,None],3,2)\n",
    "        #return res\n",
    "        try:\n",
    "            im = cv2.imread(str(fn), flags).astype(np.float32)/255\n",
    "            if im is None: raise OSError('File not recognized by opencv: {}'.format(fn))\n",
    "            return cv2.cvtColor(im, cv2.COLOR_BGR2RGB)\n",
    "        except Exception as e:\n",
    "            raise OSError('Error handling image at: {}'.format(fn)) from e"
   ]
  },
  {
   "cell_type": "code",
   "execution_count": 108,
   "metadata": {},
   "outputs": [],
   "source": [
    "im = open_image(IMG_PATH/trn_fns[1])"
   ]
  },
  {
   "cell_type": "code",
   "execution_count": 109,
   "metadata": {},
   "outputs": [
    {
     "data": {
      "text/plain": [
       "(120, 160, 3)"
      ]
     },
     "execution_count": 109,
     "metadata": {},
     "output_type": "execute_result"
    }
   ],
   "source": [
    "im.shape"
   ]
  },
  {
   "cell_type": "markdown",
   "metadata": {},
   "source": [
    "- Matplotlib's **plt.subplots** is a really useful wrapper for creating plots, regardless of whether you have more than one subplot.\n",
    "- Note that Matplotlib has an optional object-oriented API which I think is much easier to understand and use (although few examples online use it!)"
   ]
  },
  {
   "cell_type": "code",
   "execution_count": 112,
   "metadata": {
    "collapsed": true
   },
   "outputs": [],
   "source": [
    "def show_img(im, figsize=None, ax=None):\n",
    "    if not ax: fig, ax = plt.subplots(figsize=figsize)\n",
    "    ax.imshow(im)\n",
    "    ax.get_xaxis().set_visible(False)\n",
    "    ax.get_yaxis().set_visible(False)\n",
    "    return ax"
   ]
  },
  {
   "cell_type": "markdown",
   "metadata": {},
   "source": [
    "- trick to making text visible regardless of background is to use white text with black outline, or visa versa.\n",
    "- Here's how to do it in matplotlib."
   ]
  },
  {
   "cell_type": "code",
   "execution_count": 98,
   "metadata": {
    "collapsed": true
   },
   "outputs": [],
   "source": [
    "def draw_outline(o, lw):\n",
    "    ''' Drawing outline\n",
    "    Arguments:\n",
    "        o: matplotlib plotting object, like ax, plt\n",
    "        lw: line width\n",
    "    '''\n",
    "    o.set_path_effects([patheffects.Stroke(\n",
    "        linewidth=lw, foreground='black'), patheffects.Normal()])"
   ]
  },
  {
   "cell_type": "markdown",
   "metadata": {},
   "source": [
    "- Note that * in argument lists is the splat operator. In this case it's a little shortcut compared to writing out b[-2],b[-1]."
   ]
  },
  {
   "cell_type": "code",
   "execution_count": 140,
   "metadata": {
    "collapsed": true
   },
   "outputs": [],
   "source": [
    "def draw_rect(ax, b):\n",
    "    patch = ax.add_patch(patches.Rectangle(b[:2], *b[-2:], fill=False, edgecolor='yellow', lw=2))\n",
    "    #draw_outline(patch, 4)"
   ]
  },
  {
   "cell_type": "code",
   "execution_count": 147,
   "metadata": {
    "collapsed": true
   },
   "outputs": [],
   "source": [
    "def draw_text(ax, xy, txt, sz=14):\n",
    "    text = ax.text(*xy, txt,\n",
    "                   verticalalignment='top', color='black', fontsize=sz)\n",
    "    #draw_outline(text, 1)"
   ]
  },
  {
   "cell_type": "code",
   "execution_count": 148,
   "metadata": {},
   "outputs": [
    {
     "data": {
      "image/png": "[encoded data removed]",
      "text/plain": [
       "<matplotlib.figure.Figure at 0x7f0c0de8e898>"
      ]
     },
     "metadata": {},
     "output_type": "display_data"
    }
   ],
   "source": [
    "ax = show_img(im)\n",
    "b = bb_hw(trn_anno[1][0][0])\n",
    "draw_rect(ax, b)\n",
    "draw_text(ax, b[:2], cats[trn_anno[1][0][1]])"
   ]
  },
  {
   "cell_type": "markdown",
   "metadata": {},
   "source": [
    "- Showing all the labels"
   ]
  },
  {
   "cell_type": "code",
   "execution_count": 151,
   "metadata": {
    "collapsed": true
   },
   "outputs": [],
   "source": [
    "def draw_im(im, ann):\n",
    "    ax = show_img(im, figsize=(16,8))\n",
    "    for b,c in ann:\n",
    "        b = bb_hw(b)\n",
    "        draw_rect(ax, b)\n",
    "        draw_text(ax, b[:2], cats[c], sz=16)"
   ]
  },
  {
   "cell_type": "code",
   "execution_count": 152,
   "metadata": {
    "collapsed": true
   },
   "outputs": [],
   "source": [
    "def draw_idx(i):\n",
    "    im_a = trn_anno[i]\n",
    "    im = open_image(IMG_PATH/trn_fns[i])\n",
    "    print(im.shape)\n",
    "    draw_im(im, im_a)"
   ]
  },
  {
   "cell_type": "code",
   "execution_count": 156,
   "metadata": {},
   "outputs": [
    {
     "name": "stdout",
     "output_type": "stream",
     "text": [
      "(120, 160, 3)\n"
     ]
    },
    {
     "data": {
      "image/png": "[encoded data removed]",
      "text/plain": [
       "<matplotlib.figure.Figure at 0x7f0c0debdeb8>"
      ]
     },
     "metadata": {},
     "output_type": "display_data"
    }
   ],
   "source": [
    "draw_idx(22)"
   ]
  }
 ],
 "metadata": {
  "kernelspec": {
   "display_name": "Python 3",
   "language": "python",
   "name": "python3"
  },
  "language_info": {
   "codemirror_mode": {
    "name": "ipython",
    "version": 3
   },
   "file_extension": ".py",
   "mimetype": "text/x-python",
   "name": "python",
   "nbconvert_exporter": "python",
   "pygments_lexer": "ipython3",
   "version": "3.5.2"
  }
 },
 "nbformat": 4,
 "nbformat_minor": 2
}
