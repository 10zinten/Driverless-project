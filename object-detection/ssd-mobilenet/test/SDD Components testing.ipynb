{
 "cells": [
  {
   "cell_type": "code",
   "execution_count": 144,
   "metadata": {},
   "outputs": [],
   "source": [
    "import tensorflow as tf\n",
    "import numpy as np\n",
    "import matplotlib.pyplot as plt"
   ]
  },
  {
   "cell_type": "markdown",
   "metadata": {},
   "source": [
    "# SSD Optimizer"
   ]
  },
  {
   "cell_type": "code",
   "execution_count": 29,
   "metadata": {
    "collapsed": true
   },
   "outputs": [],
   "source": [
    "num_vars = 7\n",
    "num_classes = 3\n",
    "num_anchors = 5\n",
    "batch_size = 3\n",
    "\n",
    "sess = tf.Session()\n",
    "\n",
    "def tf_print(tensor):\n",
    "    print(sess.run(tensor))"
   ]
  },
  {
   "cell_type": "markdown",
   "metadata": {},
   "source": [
    "## Ground truth"
   ]
  },
  {
   "cell_type": "code",
   "execution_count": 108,
   "metadata": {},
   "outputs": [
    {
     "name": "stdout",
     "output_type": "stream",
     "text": [
      "[[[1. 0. 0.]\n",
      "  [0. 1. 0.]\n",
      "  [0. 0. 1.]\n",
      "  [0. 0. 1.]\n",
      "  [0. 1. 0.]]\n",
      "\n",
      " [[1. 0. 0.]\n",
      "  [0. 1. 0.]\n",
      "  [1. 0. 0.]\n",
      "  [1. 0. 0.]\n",
      "  [0. 0. 1.]]\n",
      "\n",
      " [[0. 1. 0.]\n",
      "  [1. 0. 0.]\n",
      "  [1. 0. 0.]\n",
      "  [0. 1. 0.]\n",
      "  [0. 0. 1.]]]\n",
      "[[[ 0.3869008   0.2889062   0.2838913   0.47948352]\n",
      "  [-1.1316028   0.29714587  0.6015586   0.3729462 ]\n",
      "  [-1.0588769  -0.25315255 -0.34880033 -0.59850043]\n",
      "  [ 1.114877   -0.4919945  -1.3831943   0.18301326]\n",
      "  [-0.06354824  0.01563287 -1.6393721   0.70654845]]\n",
      "\n",
      " [[ 0.05637494  0.26780865 -1.2404562   1.1448557 ]\n",
      "  [-0.805728    0.3200344  -0.64203537  1.2978855 ]\n",
      "  [-1.2355933   0.7456697   0.7035232  -1.6139536 ]\n",
      "  [-1.1935058  -0.5659212  -0.27643606 -1.4432042 ]\n",
      "  [-0.61198777 -0.24967131 -1.5702643   1.5619597 ]]\n",
      "\n",
      " [[-0.685509    0.00893273  0.7638878  -0.17860977]\n",
      "  [-0.36306795 -0.78268015 -2.3794832   0.18845686]\n",
      "  [-0.51379865  0.00920411  0.79405373 -1.6149945 ]\n",
      "  [ 0.5305107   0.8555886  -0.43728977 -1.2831309 ]\n",
      "  [-0.82253236  0.23744683  0.38302115 -0.34826276]]]\n"
     ]
    }
   ],
   "source": [
    "# Classificatin tensor\n",
    "# shape: (batch_size, num_anchors, num_classes)\n",
    "# create random label input\n",
    "gt_cl = []\n",
    "for i in range(batch_size):\n",
    "    x = np.eye(num_classes)\n",
    "    # select row at random choice\n",
    "    gt_cl.append(x[np.random.choice(x.shape[0], size=num_anchors)].tolist())\n",
    "gt_cl = tf.constant(gt_cl)\n",
    "\n",
    "\n",
    "# Localization tensor\n",
    "# shape: (batch_size, num_anchors, 4) \n",
    "gt_loc = tf.constant([[[ 0.3869008,   0.2889062,   0.2838913,   0.47948352],\n",
    "  [-1.1316028,   0.29714587,  0.6015586,   0.3729462 ],\n",
    "  [-1.0588769,  -0.25315255, -0.34880033, -0.59850043],\n",
    "  [ 1.114877,   -0.4919945,  -1.3831943,   0.18301326],\n",
    "  [-0.06354824,  0.01563287, -1.6393721,   0.70654845]],\n",
    "\n",
    " [[ 0.05637494,  0.26780865, -1.2404562,   1.1448557 ],\n",
    "  [-0.805728,    0.3200344,  -0.64203537,  1.2978855 ],\n",
    "  [-1.2355933,   0.7456697,   0.7035232,  -1.6139536 ],\n",
    "  [-1.1935058,  -0.5659212, -0.27643606, -1.4432042 ],\n",
    "  [-0.61198777, -0.24967131, -1.5702643,   1.5619597 ]],\n",
    "\n",
    " [[-0.685509,    0.00893273,  0.7638878,  -0.17860977],\n",
    "  [-0.36306795, -0.78268015, -2.3794832,   0.18845686],\n",
    "  [-0.51379865,  0.00920411,  0.79405373, -1.6149945 ],\n",
    "  [ 0.5305107,   0.8555886,  -0.43728977, -1.2831309 ],\n",
    "  [-0.82253236,  0.23744683,  0.38302115, -0.34826276]]])\n",
    "\n",
    "# Senity check\n",
    "tf_print(gt_cl)\n",
    "tf_print(gt_loc)"
   ]
  },
  {
   "cell_type": "markdown",
   "metadata": {},
   "source": [
    "# Classification Loss\n",
    "## match_counters"
   ]
  },
  {
   "cell_type": "code",
   "execution_count": 109,
   "metadata": {},
   "outputs": [
    {
     "name": "stdout",
     "output_type": "stream",
     "text": [
      "Number of anchors per batch\n",
      "Total: \n",
      " [5 5 5]\n",
      "Negative (bg=1): \n",
      " [2 1 1]\n",
      "Positive (bg!=1): \n",
      " [3 4 4]\n"
     ]
    }
   ],
   "source": [
    "# Number of anchors per sample\n",
    "# Shape: (batch_size) \n",
    "total_num = tf.ones([batch_size], dtype=tf.int64) * tf.to_int64(num_anchors)\n",
    "\n",
    "# Number of negative (not-matched) anchors per sample, computed by  \n",
    "# counting boxes of the background class in each sample.            \n",
    "# Shape: (batch_size) \n",
    "negatives_num = tf.count_nonzero(gt_cl[:, :, -1], axis=1)\n",
    "\n",
    "# Number of positive (matched) anchors per sample                   \n",
    "# Shape: (batch_size)\n",
    "positives_num = total_num - negatives_num\n",
    "\n",
    "# senity check\n",
    "print(\"Number of anchors per batch\")\n",
    "print(\"Total: \\n\", sess.run(total_num))\n",
    "print(\"Negative (bg=1): \\n\", sess.run(negatives_num))\n",
    "print(\"Positive (bg!=1): \\n\",sess.run(positives_num))"
   ]
  },
  {
   "cell_type": "code",
   "execution_count": 110,
   "metadata": {},
   "outputs": [
    {
     "name": "stdout",
     "output_type": "stream",
     "text": [
      "[3. 4. 4.]\n"
     ]
    }
   ],
   "source": [
    "# Number of positives per sample that is division-safe              \n",
    "# Shape: (batch_size)                                               \n",
    "positives_num_safe = tf.where(tf.equal(positives_num, 0),           \n",
    "                              tf.ones([batch_size])*10e-15,         \n",
    "                              tf.to_float(positives_num))\n",
    "tf_print(positives_num_safe)"
   ]
  },
  {
   "cell_type": "markdown",
   "metadata": {},
   "source": [
    "## match_masks"
   ]
  },
  {
   "cell_type": "code",
   "execution_count": 111,
   "metadata": {},
   "outputs": [
    {
     "name": "stdout",
     "output_type": "stream",
     "text": [
      "Positive mask:\n",
      "[[ True  True False False  True]\n",
      " [ True  True  True  True False]\n",
      " [ True  True  True  True False]]\n",
      "Negative mask:\n",
      "[[False False  True  True False]\n",
      " [False False False False  True]\n",
      " [False False False False  True]]\n"
     ]
    }
   ],
   "source": [
    "# Boolean tensor determining whether an anchor is a positive        \n",
    "# Shape: (batch_size, num_anchors)  \n",
    "positives_mask = tf.equal(gt_cl[:, :, -1], 0)\n",
    "print(\"Positive mask:\")\n",
    "print(sess.run(positives_mask))\n",
    "\n",
    "# Boolean tensor determining whether an anchor is a negative        \n",
    "negatives_mask = tf.logical_not(positives_mask)\n",
    "print(\"Negative mask:\")\n",
    "tf_print(negatives_mask)"
   ]
  },
  {
   "cell_type": "markdown",
   "metadata": {},
   "source": [
    "## confidence_loss"
   ]
  },
  {
   "cell_type": "code",
   "execution_count": 112,
   "metadata": {},
   "outputs": [
    {
     "name": "stdout",
     "output_type": "stream",
     "text": [
      "[[0.39282098 0.4600574  0.01153591 0.1456844  0.85366166]\n",
      " [0.33491522 0.18863396 0.18936157 0.18933313 0.09754541]\n",
      " [0.71655554 0.89165634 0.28296348 0.45780018 0.41719255]]\n"
     ]
    }
   ],
   "source": [
    "# Cross-entorpy tensor  (gt_cl => logits)                                        \n",
    "# Shape: (batch_size, num_anchors) \n",
    "conf = tf.constant([[0.39282098, 0.4600574,  0.01153591, 0.14568441, 0.85366163],\n",
    "                    [0.33491521, 0.18863397, 0.18936157, 0.18933312, 0.09754541],\n",
    "                    [0.71655552, 0.89165631, 0.28296348, 0.45780019, 0.41719255]])\n",
    "tf_print(conf)"
   ]
  },
  {
   "cell_type": "code",
   "execution_count": 113,
   "metadata": {},
   "outputs": [
    {
     "name": "stdout",
     "output_type": "stream",
     "text": [
      "[[0.39282098 0.4600574  0.         0.         0.85366166]\n",
      " [0.33491522 0.18863396 0.18936157 0.18933313 0.        ]\n",
      " [0.71655554 0.89165634 0.28296348 0.45780018 0.        ]]\n"
     ]
    }
   ],
   "source": [
    "# Sum up the loss of all the positive anchors                       \n",
    "# Positives - the loss of neg anchors is zeroed out                 \n",
    "# Shape: (batch_size, num_anchors) \n",
    "positives_conf = tf.where(positives_mask, conf, tf.zeros_like(conf))\n",
    "tf_print(positives_conf)"
   ]
  },
  {
   "cell_type": "code",
   "execution_count": 114,
   "metadata": {},
   "outputs": [
    {
     "name": "stdout",
     "output_type": "stream",
     "text": [
      "[1.7065401 0.9022439 2.3489757]\n"
     ]
    }
   ],
   "source": [
    "# Total loss of positive anchors                                    \n",
    "# Shape: (batch_size)                                               \n",
    "positives_sum = tf.reduce_sum(positives_conf, axis=-1)\n",
    "tf_print(positives_sum)"
   ]
  },
  {
   "cell_type": "code",
   "execution_count": 115,
   "metadata": {},
   "outputs": [
    {
     "name": "stdout",
     "output_type": "stream",
     "text": [
      "[[0.         0.         0.01153591 0.1456844  0.        ]\n",
      " [0.         0.         0.         0.         0.09754541]\n",
      " [0.         0.         0.         0.         0.41719255]]\n"
     ]
    }
   ],
   "source": [
    "# Find neg anchors with highest conf loss                           \n",
    "# Negatives - the loss of positive anchor is zeroed out             \n",
    "# Shape: (batch_size, num_anchors)                                  \n",
    "negatives_conf = tf.where(negatives_mask, conf, tf.zeros_like(conf))\n",
    "tf_print(negatives_conf)"
   ]
  },
  {
   "cell_type": "code",
   "execution_count": 116,
   "metadata": {},
   "outputs": [
    {
     "name": "stdout",
     "output_type": "stream",
     "text": [
      "[[0.1456844  0.01153591 0.         0.         0.        ]\n",
      " [0.09754541 0.         0.         0.         0.        ]\n",
      " [0.41719255 0.         0.         0.         0.        ]]\n"
     ]
    }
   ],
   "source": [
    "# Top neg - sorted conf loss with highest one first                 \n",
    "# Shape: (batch_size, num_anchors)\n",
    "negatives_top = tf.nn.top_k(negatives_conf, num_anchors)[0]\n",
    "tf_print(negatives_top)"
   ]
  },
  {
   "cell_type": "code",
   "execution_count": 117,
   "metadata": {},
   "outputs": [
    {
     "name": "stdout",
     "output_type": "stream",
     "text": [
      "[2 1 1]\n"
     ]
    }
   ],
   "source": [
    "# Find num of negs we want to keep are                              \n",
    "# Max num of negs to keep per sample - keep 3 time as many as pos   \n",
    "# anchors in the sample                                             \n",
    "# Shape: (batch_size) \n",
    "negatives_num_max = tf.minimum(negatives_num, 3*positives_num)\n",
    "tf_print(negatives_num_max)"
   ]
  },
  {
   "cell_type": "code",
   "execution_count": 118,
   "metadata": {},
   "outputs": [
    {
     "name": "stdout",
     "output_type": "stream",
     "text": [
      "[[2]\n",
      " [1]\n",
      " [1]]\n"
     ]
    }
   ],
   "source": [
    "# mask out superfluous negs and compute the sum of the loss         \n",
    "# Transposed vector of maximum negs per sample                      \n",
    "# Shape: (batch_size, 1)                                            \n",
    "negatives_num_max_t = tf.expand_dims(negatives_num_max, 1)\n",
    "tf_print(negatives_num_max_t)"
   ]
  },
  {
   "cell_type": "code",
   "execution_count": 119,
   "metadata": {},
   "outputs": [
    {
     "name": "stdout",
     "output_type": "stream",
     "text": [
      "[0 1 2 3 4]\n"
     ]
    }
   ],
   "source": [
    "# Range tensor: [0, 1, 2, ..., num_anchors-1]                       \n",
    "# Shape: (num_anchors)                                              \n",
    "rng = tf.range(0, num_anchors, 1)\n",
    "tf_print(rng)"
   ]
  },
  {
   "cell_type": "code",
   "execution_count": 120,
   "metadata": {},
   "outputs": [
    {
     "name": "stdout",
     "output_type": "stream",
     "text": [
      "[[0 1 2 3 4]]\n"
     ]
    }
   ],
   "source": [
    "# Row range, int64, row of a matrix                                 \n",
    "# shape: (1, num_anchors)                                           \n",
    "range_row = tf.to_int64(tf.expand_dims(rng, 0)) \n",
    "tf_print(range_row)"
   ]
  },
  {
   "cell_type": "code",
   "execution_count": 121,
   "metadata": {},
   "outputs": [
    {
     "name": "stdout",
     "output_type": "stream",
     "text": [
      "[[ True  True False False False]\n",
      " [ True False False False False]\n",
      " [ True False False False False]]\n"
     ]
    }
   ],
   "source": [
    "# Mask of maximum negatives - first `negative_num_max` elements     \n",
    "# in corresponding row are `True`, the rest is false                \n",
    "# Shape: (batch_size, num_anchors)\n",
    "negatives_max_mask = tf.less(range_row, negatives_num_max_t)\n",
    "tf_print(negatives_max_mask)"
   ]
  },
  {
   "cell_type": "code",
   "execution_count": 122,
   "metadata": {},
   "outputs": [
    {
     "name": "stdout",
     "output_type": "stream",
     "text": [
      "[[0.1456844  0.01153591 0.         0.         0.        ]\n",
      " [0.09754541 0.         0.         0.         0.        ]\n",
      " [0.41719255 0.         0.         0.         0.        ]]\n"
     ]
    }
   ],
   "source": [
    "# Max negatives - all the positives and superfluous negatives are zeroed out.                                                       \n",
    "# Shape: (batch_size, num_anchors)                     \n",
    "negatives_max = tf.where(negatives_max_mask, negatives_top, tf.zeros_like(negatives_top))\n",
    "tf_print(negatives_max)"
   ]
  },
  {
   "cell_type": "code",
   "execution_count": 123,
   "metadata": {},
   "outputs": [
    {
     "name": "stdout",
     "output_type": "stream",
     "text": [
      "[0.15722032 0.09754541 0.41719255]\n"
     ]
    }
   ],
   "source": [
    "# Sum of max negatives for each sample                              \n",
    "# Shape: (batch_size)                                               \n",
    "negatives_max_sum = tf.reduce_sum(negatives_max, axis=-1) \n",
    "tf_print(negatives_max_sum)"
   ]
  },
  {
   "cell_type": "markdown",
   "metadata": {},
   "source": [
    "## Compute the confidence loss for each element "
   ]
  },
  {
   "cell_type": "code",
   "execution_count": 124,
   "metadata": {},
   "outputs": [
    {
     "name": "stdout",
     "output_type": "stream",
     "text": [
      "[1.8637605 0.9997893 2.766168 ]\n"
     ]
    }
   ],
   "source": [
    "# Total confidence loss for each sample                             \n",
    "# Shape: (batch_size) \n",
    "confidence_loss = tf.add(positives_sum, negatives_max_sum)\n",
    "tf_print(confidence_loss)"
   ]
  },
  {
   "cell_type": "code",
   "execution_count": 125,
   "metadata": {},
   "outputs": [
    {
     "name": "stdout",
     "output_type": "stream",
     "text": [
      "1.8765726\n"
     ]
    }
   ],
   "source": [
    "# Mean confidence loss for the batch                                \n",
    "# Shape: scalar                                                     \n",
    "batch_confidence_loss = tf.reduce_mean(confidence_loss, name='confidence_loss')\n",
    "tf_print(batch_confidence_loss)"
   ]
  },
  {
   "cell_type": "markdown",
   "metadata": {},
   "source": [
    "# Localization Loss"
   ]
  },
  {
   "cell_type": "code",
   "execution_count": 126,
   "metadata": {},
   "outputs": [],
   "source": [
    "# fake locator\n",
    "locator = tf.constant([[[-0.08690866,  0.42891535,  0.90692073, -1.000208,  ],\n",
    "  [ 0.08887938,  0.7338174,  -2.1127641,   0.212139  ],\n",
    "  [-1.4964243,   0.99155605,  1.296262,   -0.88467544],\n",
    "  [-1.3028897,  -1.9386891,  -0.42265242,  0.07432887],\n",
    "  [-1.2400016,  -1.4654435,   0.36970618, -0.53925747]],\n",
    "\n",
    " [[ 0.12611438, -0.5367207,  -0.21797356, -0.5519516 ],\n",
    "  [ 1.406873,  -1.0025243,  -3.4703248,  -0.791926  ],\n",
    "  [ 0.2637903,  -0.662972,   -0.88780755,  0.70007133],\n",
    "  [-0.78875697,  0.40680915,  2.215111,   -0.3220501 ],\n",
    "  [-0.618558,   -1.5095842,  -1.3640805,  -0.90787244]],\n",
    "\n",
    " [[ 0.01366237,  0.9057503,   0.9853926,   0.7723707 ],\n",
    "  [-1.0289191,  -0.22524424,  0.58269465, -0.9648252 ],\n",
    "  [-1.0404605,  -0.46937886,  0.67090863, -0.53685075],\n",
    "  [ 0.61732346, -0.96537924,  0.2936782,   0.15509798],\n",
    "  [ 0.34775734,  0.05252579,  0.56725425, -0.8486104]]])"
   ]
  },
  {
   "cell_type": "code",
   "execution_count": 129,
   "metadata": {},
   "outputs": [
    {
     "name": "stdout",
     "output_type": "stream",
     "text": [
      "[[[-0.47380948  0.14000916  0.6230295  -1.4796915 ]\n",
      "  [ 1.2204821   0.43667153 -2.7143228  -0.1608072 ]\n",
      "  [-0.43754745  1.2447085   1.6450623  -0.286175  ]\n",
      "  [-2.4177666  -1.4466946   0.9605419  -0.10868439]\n",
      "  [-1.1764534  -1.4810764   2.0090783  -1.245806  ]]\n",
      "\n",
      " [[ 0.06973945 -0.8045293   1.0224826  -1.6968074 ]\n",
      "  [ 2.212601   -1.3225586  -2.8282895  -2.0898116 ]\n",
      "  [ 1.4993837  -1.4086417  -1.5913308   2.314025  ]\n",
      "  [ 0.4047488   0.97273034  2.491547    1.1211541 ]\n",
      "  [-0.00657022 -1.2599128   0.20618379 -2.4698322 ]]\n",
      "\n",
      " [[ 0.6991714   0.89681756  0.22150475  0.9509805 ]\n",
      "  [-0.6658511   0.5574359   2.9621778  -1.153282  ]\n",
      "  [-0.5266618  -0.47858298 -0.1231451   1.0781438 ]\n",
      "  [ 0.08681273 -1.8209679   0.730968    1.4382288 ]\n",
      "  [ 1.1702898  -0.18492104  0.1842331  -0.5003476 ]]]\n"
     ]
    }
   ],
   "source": [
    "# Element-wise difference btw the predicted localization and ground truth                   \n",
    "# Shape: (batch, num_anchors, 4)\n",
    "loc_diff = tf.subtract(locator, gt_loc)\n",
    "tf_print(loc_diff)"
   ]
  },
  {
   "cell_type": "code",
   "execution_count": 192,
   "metadata": {
    "collapsed": true
   },
   "outputs": [],
   "source": [
    "def smooth_l1_loss(x):                                                          \n",
    "    square_loss = 0.5 * x**2                                                    \n",
    "    absolute_loss = tf.abs(x)                                                   \n",
    "    return tf.where(tf.less(absolute_loss, 1.), square_loss, absolute_loss-0.5)\n",
    "\n",
    "def l1_loss(x):\n",
    "    return tf.abs(x)\n",
    "\n",
    "def l2_loss(x):\n",
    "    return tf.square(x)\n",
    "\n",
    "def sort_tensor(x):\n",
    "    x = sess.run(x)\n",
    "    x = tf.constant(np.sort(x))\n",
    "    return x"
   ]
  },
  {
   "cell_type": "code",
   "execution_count": 193,
   "metadata": {},
   "outputs": [
    {
     "name": "stdout",
     "output_type": "stream",
     "text": [
      "[[[1.1224771e-01 9.8012835e-03 1.9408286e-01 9.7969151e-01]\n",
      "  [7.2048211e-01 9.5341012e-02 2.2143228e+00 1.2929479e-02]\n",
      "  [9.5723882e-02 7.4470854e-01 1.1450623e+00 4.0948071e-02]\n",
      "  [1.9177666e+00 9.4669461e-01 4.6132037e-01 5.9061483e-03]\n",
      "  [6.7645335e-01 9.8107636e-01 1.5090783e+00 7.4580598e-01]]\n",
      "\n",
      " [[2.4317952e-03 3.2363370e-01 5.2248263e-01 1.1968074e+00]\n",
      "  [1.7126009e+00 8.2255864e-01 2.3282895e+00 1.5898116e+00]\n",
      "  [9.9938369e-01 9.0864170e-01 1.0913308e+00 1.8140249e+00]\n",
      "  [8.1910796e-02 4.7310215e-01 1.9915471e+00 6.2115407e-01]\n",
      "  [2.1583895e-05 7.5991285e-01 2.1255879e-02 1.9698322e+00]]\n",
      "\n",
      " [[2.4442033e-01 4.0214089e-01 2.4532177e-02 4.5218194e-01]\n",
      "  [2.2167885e-01 1.5536740e-01 2.4621778e+00 6.5328205e-01]\n",
      "  [1.3868633e-01 1.1452083e-01 7.5823581e-03 5.7814384e-01]\n",
      "  [3.7682254e-03 1.3209679e+00 2.6715711e-01 9.3822885e-01]\n",
      "  [6.7028975e-01 1.7097896e-02 1.6970918e-02 1.2517387e-01]]]\n"
     ]
    }
   ],
   "source": [
    "# Smooth L1 loss                  \n",
    "# Shape: (batch_size, num_anchors, 4)\n",
    "loc_loss = smooth_l1_loss(loc_diff)\n",
    "tf_print(loc_loss)"
   ]
  },
  {
   "cell_type": "markdown",
   "metadata": {},
   "source": [
    "### Compare Smooth L1, L1, L2"
   ]
  },
  {
   "cell_type": "code",
   "execution_count": 194,
   "metadata": {},
   "outputs": [
    {
     "data": {
      "image/png": "[encoded data removed]",
      "text/plain": [
       "<matplotlib.figure.Figure at 0x7ff03048e4e0>"
      ]
     },
     "metadata": {},
     "output_type": "display_data"
    }
   ],
   "source": [
    "loss_fns = [smooth_l1_loss, l1_loss, l2_loss]\n",
    "\n",
    "fig = plt.figure(figsize=(16, 4))\n",
    "for i, loss_fn in enumerate(loss_fns):\n",
    "    plt.subplot(1,3, i+1)\n",
    "    x = tf.reshape(loc_diff, [-1])\n",
    "    x = sort_tensor(x)\n",
    "    y = loss_fn(x)\n",
    "    x, y = sess.run([x, y])\n",
    "    plt.plot(x, y)\n",
    "    plt.title(loss_fn.__name__)\n",
    "plt.show()"
   ]
  },
  {
   "cell_type": "code",
   "execution_count": 141,
   "metadata": {},
   "outputs": [
    {
     "name": "stdout",
     "output_type": "stream",
     "text": [
      "[[1.2958233  3.0430753  2.0264428  3.3316877  3.9124138 ]\n",
      " [2.0453556  6.4532604  4.813381   3.167714   2.7510223 ]\n",
      " [1.1232753  3.492506   0.83893335 2.530122   0.82953244]]\n"
     ]
    }
   ],
   "source": [
    "# Sum of localization losses for each anchor\n",
    "# Shape: (batch_size, num_anchors)\n",
    "loc_loss_sum = tf.reduce_sum(loc_loss, axis=-1)\n",
    "tf_print(loc_loss_sum)"
   ]
  },
  {
   "cell_type": "code",
   "execution_count": 143,
   "metadata": {},
   "outputs": [
    {
     "name": "stdout",
     "output_type": "stream",
     "text": [
      "[[1.2958233  3.0430753  0.         0.         3.9124138 ]\n",
      " [2.0453556  6.4532604  4.813381   3.167714   0.        ]\n",
      " [1.1232753  3.492506   0.83893335 2.530122   0.        ]]\n",
      "[[ True  True False False  True]\n",
      " [ True  True  True  True False]\n",
      " [ True  True  True  True False]]\n"
     ]
    }
   ],
   "source": [
    "# Positive locs - the loss of negative anchors is zeroed >\n",
    "# Shape: (batch_size, num_anchors)\n",
    "positive_locs = tf.where(positives_mask, loc_loss_sum, tf.zeros_like(loc_loss_sum))\n",
    "tf_print(positive_locs)\n",
    "tf_print(positives_mask)"
   ]
  },
  {
   "cell_type": "code",
   "execution_count": 195,
   "metadata": {},
   "outputs": [
    {
     "name": "stdout",
     "output_type": "stream",
     "text": [
      "[ 8.251312  16.479712   7.9848366]\n"
     ]
    }
   ],
   "source": [
    "# Total loss of positive anchors                                    \n",
    "# Shape: (batch_size)                                               \n",
    "localization_loss = tf.reduce_sum(positive_locs, axis=-1)\n",
    "tf_print(localization_loss)"
   ]
  },
  {
   "cell_type": "code",
   "execution_count": 198,
   "metadata": {},
   "outputs": [
    {
     "name": "stdout",
     "output_type": "stream",
     "text": [
      "[0.30560416 0.2574955  0.12476307]\n",
      "[3 4 4]\n",
      "[3. 4. 4.]\n"
     ]
    }
   ],
   "source": [
    "# Total localization loss normalized by the number of positives per sample                                                        \n",
    "# Shape: (batch_size)                                               \n",
    "localization_loss = tf.where(tf.equal(positives_num, 0),            \n",
    "                         tf.zeros([batch_size]), tf.div(localization_loss, positives_num_safe)\n",
    "                            )\n",
    "tf_print(localization_loss)\n",
    "tf_print(positives_num)\n",
    "tf_print(positives_num_safe)"
   ]
  },
  {
   "cell_type": "code",
   "execution_count": 199,
   "metadata": {},
   "outputs": [
    {
     "name": "stdout",
     "output_type": "stream",
     "text": [
      "1.8765726\n"
     ]
    }
   ],
   "source": [
    "# Mean confidence loss for the batch                                \n",
    "# Shape: scalar                                                     \n",
    "confidence_loss = tf.reduce_mean(confidence_loss, name='confidence_loss')\n",
    "tf_print(confidence_loss)"
   ]
  }
 ],
 "metadata": {
  "kernelspec": {
   "display_name": "Python 3",
   "language": "python",
   "name": "python3"
  },
  "language_info": {
   "codemirror_mode": {
    "name": "ipython",
    "version": 3
   },
   "file_extension": ".py",
   "mimetype": "text/x-python",
   "name": "python",
   "nbconvert_exporter": "python",
   "pygments_lexer": "ipython3",
   "version": "3.5.2"
  }
 },
 "nbformat": 4,
 "nbformat_minor": 2
}
