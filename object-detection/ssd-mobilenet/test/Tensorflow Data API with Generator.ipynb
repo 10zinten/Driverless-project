{
 "cells": [
  {
   "cell_type": "markdown",
   "metadata": {},
   "source": [
    "### 3 Steps to use Data API\n",
    "1. **Importing Data**: Create a Dataset instance from some data\n",
    "1. **Create an Iterator**: By using the created dataset to make an Iterator instance to iterate thought the dataset\n",
    "1. **Consuming Data**: By using the created iterator we can get the elements from the dataset to feed the model"
   ]
  },
  {
   "cell_type": "code",
   "execution_count": 2,
   "metadata": {
    "collapsed": true
   },
   "outputs": [],
   "source": [
    "import tensorflow as tf\n",
    "import numpy as np"
   ]
  },
  {
   "cell_type": "markdown",
   "metadata": {},
   "source": [
    "### From Numpy"
   ]
  },
  {
   "cell_type": "code",
   "execution_count": 7,
   "metadata": {},
   "outputs": [
    {
     "name": "stdout",
     "output_type": "stream",
     "text": [
      "[0.32036811 0.47135286]\n",
      "[0.98425427 0.03165676]\n"
     ]
    }
   ],
   "source": [
    "x = np.random.sample((100, 2))\n",
    "dataset = tf.data.Dataset.from_tensor_slices(x)\n",
    "\n",
    "iterator = dataset.make_one_shot_iterator()\n",
    "x_iter = iterator.get_next()\n",
    "\n",
    "with tf.Session() as sess: \n",
    "    print(sess.run(x_iter))\n",
    "    print(sess.run(x_iter))"
   ]
  },
  {
   "cell_type": "code",
   "execution_count": 13,
   "metadata": {},
   "outputs": [
    {
     "name": "stdout",
     "output_type": "stream",
     "text": [
      "[array([0.89832814, 0.47356569]), array([0.4379071])]\n",
      "[array([0.30549606, 0.88996046]), array([0.14898714])]\n"
     ]
    }
   ],
   "source": [
    "# using two numpy arrays\n",
    "features, labels = np.random.sample((100, 2)), np.random.sample((100, 1))\n",
    "dataset = tf.data.Dataset.from_tensor_slices((features, labels))\n",
    "\n",
    "iterator = dataset.make_one_shot_iterator()\n",
    "f, l = iterator.get_next()\n",
    "\n",
    "with tf.Session() as sess:\n",
    "    print(sess.run([f, l]))\n",
    "    print(sess.run([f, l]))"
   ]
  },
  {
   "cell_type": "markdown",
   "metadata": {},
   "source": [
    "### From tensors"
   ]
  },
  {
   "cell_type": "code",
   "execution_count": 14,
   "metadata": {},
   "outputs": [
    {
     "name": "stdout",
     "output_type": "stream",
     "text": [
      "[0.6066462 0.6232023]\n"
     ]
    }
   ],
   "source": [
    "dataset = tf.data.Dataset.from_tensor_slices(tf.random_uniform([100, 2]))\n",
    "\n",
    "iterator = dataset.make_initializable_iterator()\n",
    "data = iterator.get_next()\n",
    "\n",
    "with tf.Session() as sess:\n",
    "    sess.run(iterator.initializer)\n",
    "    print(sess.run(data))"
   ]
  },
  {
   "cell_type": "markdown",
   "metadata": {},
   "source": [
    "### From a placeholder"
   ]
  },
  {
   "cell_type": "code",
   "execution_count": 15,
   "metadata": {},
   "outputs": [
    {
     "name": "stdout",
     "output_type": "stream",
     "text": [
      "[0.22145846 0.09135913]\n"
     ]
    }
   ],
   "source": [
    "x = tf.placeholder(tf.float32, shape=[None, 2])\n",
    "dataset = tf.data.Dataset.from_tensor_slices(x)\n",
    "\n",
    "data = np.random.sample((100, 2))\n",
    "\n",
    "iterator = dataset.make_initializable_iterator()\n",
    "el = iterator.get_next()\n",
    "\n",
    "with tf.Session() as sess:\n",
    "    sess.run(iterator.initializer, feed_dict={x: data})\n",
    "    print(sess.run(el))"
   ]
  },
  {
   "cell_type": "markdown",
   "metadata": {},
   "source": [
    "### From generator"
   ]
  },
  {
   "cell_type": "code",
   "execution_count": 84,
   "metadata": {},
   "outputs": [
    {
     "name": "stdout",
     "output_type": "stream",
     "text": [
      "4\n",
      "(3, 32, 32, 3) (3, 10)\n",
      "(3, 32, 32, 3) (3, 10)\n",
      "(3, 32, 32, 3) (3, 10)\n",
      "(3, 32, 32, 3) (3, 10)\n",
      "(3, 32, 32, 3) (3, 10)\n",
      "(3, 32, 32, 3) (3, 10)\n",
      "(3, 32, 32, 3) (3, 10)\n",
      "(3, 32, 32, 3) (3, 10)\n"
     ]
    }
   ],
   "source": [
    "images, labels = np.random.sample((14, 32, 32, 3)), np.random.sample((14, 10))\n",
    "\n",
    "def generator():\n",
    "    start, end = 0, 3\n",
    "    while start < len(images):\n",
    "        yield images[start: end], labels[start: end]\n",
    "        start, end = start+3, end+3\n",
    "        \n",
    "dataset = tf.data.Dataset().batch(3).from_generator(\n",
    "    generator,\n",
    "    (tf.float32, tf.int64),\n",
    "    (tf.TensorShape([None, 32, 32, 3]), tf.TensorShape([None, 10]))\n",
    ")\n",
    "\n",
    "iterator = dataset.make_initializable_iterator()\n",
    "image, label = iterator.get_next()\n",
    "\n",
    "with tf.Session() as sess:\n",
    "    sess.run(iterator.initializer)\n",
    "    for _ in range(len(images)//3 + 1):\n",
    "        try:\n",
    "            print(sess.run(image).shape, sess.run(label).shape)\n",
    "        except:\n",
    "            sess.run(iterator.initializer)\n",
    "            print(sess.run(image).shape, sess.run(label).shape)"
   ]
  },
  {
   "cell_type": "code",
   "execution_count": 53,
   "metadata": {},
   "outputs": [
    {
     "name": "stdout",
     "output_type": "stream",
     "text": [
      "(1, array([1]))\n",
      "(2, array([1, 1]))\n"
     ]
    }
   ],
   "source": []
  },
  {
   "cell_type": "code",
   "execution_count": null,
   "metadata": {
    "collapsed": true
   },
   "outputs": [],
   "source": []
  }
 ],
 "metadata": {
  "kernelspec": {
   "display_name": "Python 3",
   "language": "python",
   "name": "python3"
  },
  "language_info": {
   "codemirror_mode": {
    "name": "ipython",
    "version": 3
   },
   "file_extension": ".py",
   "mimetype": "text/x-python",
   "name": "python",
   "nbconvert_exporter": "python",
   "pygments_lexer": "ipython3",
   "version": "3.5.2"
  }
 },
 "nbformat": 4,
 "nbformat_minor": 2
}
