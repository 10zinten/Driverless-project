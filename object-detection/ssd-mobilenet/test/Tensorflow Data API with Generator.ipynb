{
 "cells": [
  {
   "cell_type": "markdown",
   "metadata": {},
   "source": [
    "### 3 Steps to use Data API\n",
    "1. **Importing Data**: Create a Dataset instance from some data\n",
    "1. **Create an Iterator**: By using the created dataset to make an Iterator instance to iterate thought the dataset\n",
    "1. **Consuming Data**: By using the created iterator we can get the elements from the dataset to feed the model"
   ]
  },
  {
   "cell_type": "code",
   "execution_count": 2,
   "metadata": {},
   "outputs": [],
   "source": [
    "import tensorflow as tf\n",
    "import numpy as np"
   ]
  },
  {
   "cell_type": "markdown",
   "metadata": {},
   "source": [
    "### From Numpy"
   ]
  },
  {
   "cell_type": "code",
   "execution_count": 3,
   "metadata": {},
   "outputs": [
    {
     "name": "stdout",
     "output_type": "stream",
     "text": [
      "[0.20376027 0.754099  ]\n",
      "[0.80373979 0.86326871]\n"
     ]
    }
   ],
   "source": [
    "x = np.random.sample((100, 2))\n",
    "dataset = tf.data.Dataset.from_tensor_slices(x)\n",
    "\n",
    "iterator = dataset.make_one_shot_iterator()\n",
    "x_iter = iterator.get_next()\n",
    "\n",
    "with tf.Session() as sess: \n",
    "    print(sess.run(x_iter))\n",
    "    print(sess.run(x_iter))"
   ]
  },
  {
   "cell_type": "code",
   "execution_count": 4,
   "metadata": {},
   "outputs": [
    {
     "name": "stdout",
     "output_type": "stream",
     "text": [
      "[array([0.61026629, 0.60401201]), array([0.90194467])]\n",
      "[array([0.5817122 , 0.65608193]), array([0.98804603])]\n"
     ]
    }
   ],
   "source": [
    "# using two numpy arrays\n",
    "features, labels = np.random.sample((100, 2)), np.random.sample((100, 1))\n",
    "dataset = tf.data.Dataset.from_tensor_slices((features, labels))\n",
    "\n",
    "iterator = dataset.make_one_shot_iterator()\n",
    "f, l = iterator.get_next()\n",
    "\n",
    "with tf.Session() as sess:\n",
    "    print(sess.run([f, l]))\n",
    "    print(sess.run([f, l]))"
   ]
  },
  {
   "cell_type": "markdown",
   "metadata": {},
   "source": [
    "### From tensors"
   ]
  },
  {
   "cell_type": "code",
   "execution_count": 5,
   "metadata": {},
   "outputs": [
    {
     "name": "stdout",
     "output_type": "stream",
     "text": [
      "[0.5424906  0.17251897]\n"
     ]
    }
   ],
   "source": [
    "dataset = tf.data.Dataset.from_tensor_slices(tf.random_uniform([100, 2]))\n",
    "\n",
    "iterator = dataset.make_initializable_iterator()\n",
    "data = iterator.get_next()\n",
    "\n",
    "with tf.Session() as sess:\n",
    "    sess.run(iterator.initializer)\n",
    "    print(sess.run(data))"
   ]
  },
  {
   "cell_type": "markdown",
   "metadata": {},
   "source": [
    "### From a placeholder"
   ]
  },
  {
   "cell_type": "code",
   "execution_count": 6,
   "metadata": {},
   "outputs": [
    {
     "name": "stdout",
     "output_type": "stream",
     "text": [
      "[0.7731478  0.81827503]\n"
     ]
    }
   ],
   "source": [
    "x = tf.placeholder(tf.float32, shape=[None, 2])\n",
    "dataset = tf.data.Dataset.from_tensor_slices(x)\n",
    "\n",
    "data = np.random.sample((100, 2))\n",
    "\n",
    "iterator = dataset.make_initializable_iterator()\n",
    "el = iterator.get_next()\n",
    "\n",
    "with tf.Session() as sess:\n",
    "    sess.run(iterator.initializer, feed_dict={x: data})\n",
    "    print(sess.run(el))"
   ]
  },
  {
   "cell_type": "markdown",
   "metadata": {},
   "source": [
    "### From generator"
   ]
  },
  {
   "cell_type": "code",
   "execution_count": 7,
   "metadata": {},
   "outputs": [
    {
     "name": "stdout",
     "output_type": "stream",
     "text": [
      "(3, 32, 32, 3) (3, 10)\n",
      "(3, 32, 32, 3) (3, 10)\n",
      "(3, 32, 32, 3) (3, 10)\n",
      "(3, 32, 32, 3) (3, 10)\n",
      "(3, 32, 32, 3) (3, 10)\n"
     ]
    }
   ],
   "source": [
    "images, labels = np.random.sample((14, 32, 32, 3)), np.random.sample((14, 10))\n",
    "\n",
    "def generator():\n",
    "    start, end = 0, 3\n",
    "    while start < len(images):\n",
    "        yield images[start: end], labels[start: end]\n",
    "        start, end = start+3, end+3\n",
    "        \n",
    "dataset = tf.data.Dataset().batch(3).from_generator(\n",
    "    generator,\n",
    "    (tf.float32, tf.int64),\n",
    "    (tf.TensorShape([None, 32, 32, 3]), tf.TensorShape([None, 10]))\n",
    ")\n",
    "\n",
    "iterator = dataset.make_initializable_iterator()\n",
    "image, label = iterator.get_next()\n",
    "\n",
    "with tf.Session() as sess:\n",
    "    sess.run(iterator.initializer)\n",
    "    for _ in range(len(images)//3 + 1):\n",
    "        try:\n",
    "            print(sess.run(image).shape, sess.run(label).shape)\n",
    "        except:\n",
    "            sess.run(iterator.initializer)\n",
    "            print(sess.run(image).shape, sess.run(label).shape)"
   ]
  },
  {
   "cell_type": "markdown",
   "metadata": {},
   "source": [
    "### Test train data generator with Dataset API"
   ]
  },
  {
   "cell_type": "code",
   "execution_count": 3,
   "metadata": {},
   "outputs": [],
   "source": [
    "import os\n",
    "\n",
    "from data_gen import TrainingData   "
   ]
  },
  {
   "cell_type": "code",
   "execution_count": 4,
   "metadata": {},
   "outputs": [],
   "source": [
    "data = '../dataset/cone/train_dev'                                    \n",
    "images_dir = os.path.join(data, 'Images')                          \n",
    "labels_dir = os.path.join(data, 'Labels')                          \n",
    "td = TrainingData(images_dir, labels_dir, None)                    "
   ]
  },
  {
   "cell_type": "code",
   "execution_count": 6,
   "metadata": {},
   "outputs": [
    {
     "name": "stderr",
     "output_type": "stream",
     "text": [
      "/home/tenzin/ML/project/sfd/Driverless-project-2/object-detection/ssd-mobilenet/test/ssdutils.py:154: RuntimeWarning: invalid value encountered in true_divide\n",
      "  return iarea / union\n",
      "/home/tenzin/ML/project/sfd/Driverless-project-2/object-detection/ssd-mobilenet/test/ssdutils.py:159: RuntimeWarning: invalid value encountered in greater\n",
      "  overlap = iou > threshold\n"
     ]
    }
   ],
   "source": [
    "it = iter(td.train_generator(3))\n",
    "sample = next(it)"
   ]
  },
  {
   "cell_type": "code",
   "execution_count": 7,
   "metadata": {},
   "outputs": [
    {
     "data": {
      "text/plain": [
       "((3, 160, 160, 3), array([137., 140., 109.], dtype=float32))"
      ]
     },
     "execution_count": 7,
     "metadata": {},
     "output_type": "execute_result"
    }
   ],
   "source": [
    "# image data\n",
    "sample[0].shape, sample[0][0][0][0]"
   ]
  },
  {
   "cell_type": "code",
   "execution_count": 8,
   "metadata": {},
   "outputs": [
    {
     "data": {
      "text/plain": [
       "((3, 8540, 7), array([0., 0., 1., 0., 0., 0., 0.], dtype=float32))"
      ]
     },
     "execution_count": 8,
     "metadata": {},
     "output_type": "execute_result"
    }
   ],
   "source": [
    "# label data\n",
    "sample[1].shape, sample[1][0][0]"
   ]
  },
  {
   "cell_type": "code",
   "execution_count": 9,
   "metadata": {},
   "outputs": [
    {
     "name": "stderr",
     "output_type": "stream",
     "text": [
      "/home/tenzin/ML/project/sfd/Driverless-project-2/object-detection/ssd-mobilenet/test/ssdutils.py:154: RuntimeWarning: invalid value encountered in true_divide\n",
      "  return iarea / union\n",
      "/home/tenzin/ML/project/sfd/Driverless-project-2/object-detection/ssd-mobilenet/test/ssdutils.py:159: RuntimeWarning: invalid value encountered in greater\n",
      "  overlap = iou > threshold\n"
     ]
    },
    {
     "name": "stdout",
     "output_type": "stream",
     "text": [
      "(3, 160, 160, 3) (3, 8540, 7)\n",
      "(3, 160, 160, 3) (3, 8540, 7)\n",
      "(3, 160, 160, 3) (3, 8540, 7)\n",
      "(3, 160, 160, 3) (3, 8540, 7)\n",
      "(3, 160, 160, 3) (3, 8540, 7)\n",
      "(3, 160, 160, 3) (3, 8540, 7)\n",
      "(3, 160, 160, 3) (3, 8540, 7)\n",
      "(3, 160, 160, 3) (3, 8540, 7)\n",
      "(3, 160, 160, 3) (3, 8540, 7)\n",
      "(3, 160, 160, 3) (3, 8540, 7)\n",
      "(3, 160, 160, 3) (3, 8540, 7)\n",
      "(3, 160, 160, 3) (3, 8540, 7)\n",
      "(3, 160, 160, 3) (3, 8540, 7)\n",
      "(3, 160, 160, 3) (3, 8540, 7)\n",
      "(3, 160, 160, 3) (3, 8540, 7)\n",
      "(3, 160, 160, 3) (3, 8540, 7)\n",
      "(3, 160, 160, 3) (3, 8540, 7)\n",
      "(3, 160, 160, 3) (3, 8540, 7)\n",
      "(3, 160, 160, 3) (3, 8540, 7)\n",
      "(3, 160, 160, 3) (3, 8540, 7)\n",
      "(3, 160, 160, 3) (3, 8540, 7)\n",
      "(3, 160, 160, 3) (3, 8540, 7)\n",
      "(3, 160, 160, 3) (3, 8540, 7)\n",
      "(3, 160, 160, 3) (3, 8540, 7)\n",
      "(3, 160, 160, 3) (3, 8540, 7)\n",
      "(3, 160, 160, 3) (3, 8540, 7)\n",
      "(3, 160, 160, 3) (3, 8540, 7)\n",
      "(3, 160, 160, 3) (3, 8540, 7)\n",
      "(3, 160, 160, 3) (3, 8540, 7)\n",
      "(3, 160, 160, 3) (3, 8540, 7)\n",
      "(3, 160, 160, 3) (3, 8540, 7)\n",
      "(3, 160, 160, 3) (2, 8540, 7)\n",
      "(3, 160, 160, 3) (3, 8540, 7)\n",
      "(3, 160, 160, 3) (3, 8540, 7)\n"
     ]
    }
   ],
   "source": [
    "dataset = tf.data.Dataset().batch(3).from_generator(\n",
    "    td.train_generator, \n",
    "    (tf.float32, tf.int64)\n",
    ")\n",
    "\n",
    "iterator = dataset.make_initializable_iterator()\n",
    "image, label = iterator.get_next()\n",
    "\n",
    "with tf.Session() as sess:\n",
    "    sess.run(iterator.initializer)\n",
    "    for _ in range(100//3 + 1):\n",
    "        try:\n",
    "            print(sess.run(image).shape, sess.run(label).shape)\n",
    "        except:\n",
    "            sess.run(iterator.initializer)\n",
    "            print(sess.run(image).shape, sess.run(label).shape)"
   ]
  },
  {
   "cell_type": "code",
   "execution_count": null,
   "metadata": {
    "collapsed": true
   },
   "outputs": [],
   "source": []
  }
 ],
 "metadata": {
  "kernelspec": {
   "display_name": "Python 3",
   "language": "python",
   "name": "python3"
  },
  "language_info": {
   "codemirror_mode": {
    "name": "ipython",
    "version": 3
   },
   "file_extension": ".py",
   "mimetype": "text/x-python",
   "name": "python",
   "nbconvert_exporter": "python",
   "pygments_lexer": "ipython3",
   "version": "3.5.2"
  }
 },
 "nbformat": 4,
 "nbformat_minor": 2
}
